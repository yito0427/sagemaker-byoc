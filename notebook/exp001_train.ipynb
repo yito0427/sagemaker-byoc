{
 "cells": [
  {
   "cell_type": "markdown",
   "metadata": {},
   "source": [
    "# 解説をつけながら、実行していく。"
   ]
  },
  {
   "source": [
    "## まずは、完全ローカルPCで学習ジョブのように実行できること"
   ],
   "cell_type": "markdown",
   "metadata": {}
  },
  {
   "cell_type": "code",
   "execution_count": null,
   "metadata": {},
   "outputs": [],
   "source": [
    "!pwd"
   ]
  },
  {
   "cell_type": "code",
   "execution_count": null,
   "metadata": {},
   "outputs": [],
   "source": [
    "!ls"
   ]
  },
  {
   "cell_type": "code",
   "execution_count": null,
   "metadata": {},
   "outputs": [],
   "source": [
    "!chmod +x opt/ml/input/data/src/*"
   ]
  },
  {
   "source": [
    "### プログラム実行 ------------"
   ],
   "cell_type": "markdown",
   "metadata": {}
  },
  {
   "cell_type": "code",
   "execution_count": null,
   "metadata": {},
   "outputs": [],
   "source": [
    "!opt/program/train"
   ]
  },
  {
   "source": [
    "### ---------------"
   ],
   "cell_type": "markdown",
   "metadata": {}
  },
  {
   "cell_type": "markdown",
   "metadata": {},
   "source": [
    "# 1.コンテナ準備\n",
    "## 1-1.Dockerfile (確認のみ)\n",
    "\n",
    "Dockerfileには、構築したいイメージが記述されています。これは、実行したいシステムの完全なオペレーティングシステムのインストールを記述していると考えることができます。しかし、Dockerコンテナの実行は、基本的な操作のためにホストマシン上のLinuxを利用するため、完全なオペレーティングシステムよりもかなり軽量です。\n",
    "\n",
    "Pythonサイエンススタックでは、標準的なUbuntuのインストールから始めて、通常のツールを実行してscikit-learnで必要なものをインストールします。最後に、特定のアルゴリズムを実装したコードをコンテナに追加して、実行に適した環境を整えます。\n",
    "\n",
    "その際、余分なスペースを整理します。これにより、コンテナは小さくなり、起動も速くなります。\n",
    "\n",
    "例のDockerfileを見てみましょう。"
   ]
  },
  {
   "source": [
    "imageには、trainやbacktestに必要なソースは含めないこととする。\n",
    "（学習ジョブ実行時にS3からコピーする）\n",
    "よって、dockerイメージ作成時に必要な資材はない。\n"
   ],
   "cell_type": "markdown",
   "metadata": {}
  },
  {
   "cell_type": "code",
   "execution_count": null,
   "metadata": {},
   "outputs": [],
   "source": [
    "!cat container/train_v1.0/Dockerfile"
   ]
  },
  {
   "cell_type": "markdown",
   "metadata": {},
   "source": [
    "## 1-2.Building and registering the container to ECR\n",
    "\n",
    "以下のシェルコードは、`docker build`を使用してコンテナイメージをビルドし、`docker push`を使用してコンテナイメージをECRにプッシュする方法を示しています。このコードはシェルスクリプト `container/build-and-push.sh` としても提供されており、`build-and-push.sh decision_trees_sample` として実行することで、イメージ `decision_trees_sample` をビルドすることができます。\n",
    "\n",
    "このコードは、使用しているアカウントと現在のデフォルトリージョン（SageMakerのノートブックインスタンスを使用している場合は、ノートブックインスタンスが作成されたリージョンになります）でECRリポジトリを探します。\n",
    "リポジトリが存在しない場合、スクリプトはそれを作成します。"
   ]
  },
  {
   "source": [
    "https://github.com/aws/amazon-sagemaker-examples/blob/master/advanced_functionality/scikit_bring_your_own/container/build_and_push.sh\n",
    "\n",
    "以下は、build-and-push.shと同じ内容"
   ],
   "cell_type": "markdown",
   "metadata": {}
  },
  {
   "cell_type": "code",
   "execution_count": null,
   "metadata": {
    "tags": [
     "outputPrepend"
    ]
   },
   "outputs": [],
   "source": [
    "%%sh\n",
    "\n",
    "# The name of our algorithm\n",
    "algorithm_name=test-rd\n",
    "\n",
    "cd container/train_v1.0\n",
    "\n",
    "chmod +x program/train\n",
    "#chmod +x decision_trees/serve\n",
    "\n",
    "account=$(aws sts get-caller-identity --query Account --output text)\n",
    "\n",
    "# Get the region defined in the current configuration (default to us-west-2 if none defined)\n",
    "region=$(aws configure get region)\n",
    "region=${region:-us-west-1}\n",
    "\n",
    "fullname=\"${account}.dkr.ecr.${region}.amazonaws.com/${algorithm_name}:latest\"\n",
    "\n",
    "# If the repository doesn't exist in ECR, create it.\n",
    "aws ecr describe-repositories --repository-names \"${algorithm_name}\" > /dev/null 2>&1\n",
    "\n",
    "if [ $? -ne 0 ]\n",
    "then\n",
    "    aws ecr create-repository --repository-name \"${algorithm_name}\" > /dev/null\n",
    "fi\n",
    "\n",
    "# Get the login command from ECR and execute it directly\n",
    "aws ecr get-login-password --region ${region}|docker login --username AWS --password-stdin ${fullname}\n",
    "\n",
    "# Build the docker image locally with the image name and then push it to ECR\n",
    "# with the full name.\n",
    "\n",
    "docker build  -t ${algorithm_name} .\n",
    "docker tag ${algorithm_name} ${fullname}\n",
    "\n",
    "docker push ${fullname}"
   ]
  },
  {
   "source": [
    "## 疑問：build and push したイメージの動作確認はローカルでできる？\n",
    "できる。ローカルモード"
   ],
   "cell_type": "markdown",
   "metadata": {}
  },
  {
   "source": [
    "# -----コンテナ準備完了-----"
   ],
   "cell_type": "markdown",
   "metadata": {}
  },
  {
   "cell_type": "markdown",
   "metadata": {},
   "source": [
    "# 2. データとプログラムをS3にアップロード\n",
    "・SageMaker　SDKを使う場合。  \n",
    "\n",
    "https://sagemaker.readthedocs.io/en/stable/api/utility/session.html\n",
    "\n",
    "\n",
    "・boto3でs3クライアントを使う場合。  "
   ]
  },
  {
   "cell_type": "code",
   "execution_count": null,
   "metadata": {},
   "outputs": [],
   "source": [
    "import sagemaker as sage\n",
    "sess = sage.Session()\n",
    "\n",
    "# S3 prefix\n",
    "#prefix = 'DEMO-scikit-byo-iris'\n",
    "prefix = 'test-rd/src'"
   ]
  },
  {
   "cell_type": "code",
   "execution_count": null,
   "metadata": {},
   "outputs": [],
   "source": [
    "#WORK_DIRECTORY = 'data'\n",
    "#data_location = sess.upload_data(WORK_DIRECTORY, key_prefix=prefix)\n",
    "\n",
    "src_location = sess.upload_data('opt/ml/input/data/src', bucket='work-aws-virginia', key_prefix=prefix)"
   ]
  },
  {
   "source": [
    "# -----データ準備完了-----"
   ],
   "cell_type": "markdown",
   "metadata": {}
  },
  {
   "cell_type": "markdown",
   "metadata": {},
   "source": [
    "# 3-1.学習ジョブ発行(ローカルモード)"
   ]
  },
  {
   "cell_type": "code",
   "execution_count": null,
   "metadata": {},
   "outputs": [],
   "source": [
    "#data_location = 's3://work-aws-virginia/test-rd/candles/'\n",
    "data_location = 's3://work-aws-virginia/test-rd/train/'\n"
   ]
  },
  {
   "cell_type": "code",
   "execution_count": null,
   "metadata": {},
   "outputs": [],
   "source": [
    "account = sess.boto_session.client('sts').get_caller_identity()['Account']\n",
    "region = sess.boto_session.region_name\n",
    "\n",
    "#image = '{}.dkr.ecr.{}.amazonaws.com/sagemaker-decision-trees:latest'.format(account, region)\n",
    "\n",
    "image = '{}.dkr.ecr.{}.amazonaws.com/test-rd:latest'.format(account, region)"
   ]
  },
  {
   "cell_type": "code",
   "execution_count": null,
   "metadata": {},
   "outputs": [],
   "source": [
    "image"
   ]
  },
  {
   "cell_type": "code",
   "execution_count": null,
   "metadata": {},
   "outputs": [],
   "source": [
    "hyperparameters={'candle_window': 15,\n",
    "                 'horizon': 300,\n",
    "                 'target': 'tgt_diff'}"
   ]
  },
  {
   "cell_type": "code",
   "execution_count": null,
   "metadata": {},
   "outputs": [],
   "source": [
    "role = 'arn:aws:iam::805433377179:role/sagemaker-sdk-for-local'\n",
    "\n",
    "lgbm = sage.estimator.Estimator(image_uri=image,\n",
    "                                #entasdfdfry_point1='run.sh',\n",
    "                                #source_sddddddddddir='src',\n",
    "                                role=role, \n",
    "                                instance_count=1,\n",
    "                                instance_type='local',\n",
    "                                #instance_type='ml.c4.2xlarge',\n",
    "                                output_path=\"s3://{}/output\".format(sess.default_bucket()),\n",
    "                                hyperparameters=hyperparameters,\n",
    "                                #sagemaker_session=sess)\n",
    ")"
   ]
  },
  {
   "cell_type": "code",
   "execution_count": null,
   "metadata": {},
   "outputs": [],
   "source": [
    "lgbm.fit({'train':'s3://work-aws-virginia/test-rd/train/',\n",
    "          'valid':'s3://work-aws-virginia/test-rd/train/',\n",
    "          'test' :'s3://work-aws-virginia/test-rd/train/',\n",
    "          'backtest':'s3://work-aws-virginia/test-rd/train/',\n",
    "          'src':'s3://work-aws-virginia/test-rd/src/'})"
   ]
  },
  {
   "cell_type": "code",
   "execution_count": null,
   "metadata": {},
   "outputs": [],
   "source": []
  },
  {
   "source": [
    "# 3-2.学習ジョブ発行(SageMaker)"
   ],
   "cell_type": "markdown",
   "metadata": {}
  },
  {
   "source": [
    "### 下準備"
   ],
   "cell_type": "markdown",
   "metadata": {}
  },
  {
   "cell_type": "code",
   "execution_count": 73,
   "metadata": {},
   "outputs": [],
   "source": [
    "import sagemaker as sage\n",
    "sess = sage.Session()\n",
    "\n",
    "prefix = 'test-rd/src'"
   ]
  },
  {
   "cell_type": "code",
   "execution_count": 74,
   "metadata": {},
   "outputs": [
    {
     "output_type": "stream",
     "name": "stdout",
     "text": [
      "{'timeframe': 15, 'horizon': 300, 'hist_row': 2}\n"
     ]
    }
   ],
   "source": [
    "### ソースコードをアップロード\n",
    "src_location = sess.upload_data('opt/ml/input/data/src', bucket='work-aws-virginia', key_prefix=prefix)\n",
    "\n",
    "### ハイパーパラメータ設定（ローカルファイルから読み込み）\n",
    "hyperparameters={\"timeframe\": 15,\n",
    "                 \"horizon\" : 300,\n",
    "                 \"hist_row\" : 2\n",
    "}\n",
    "print(hyperparameters)"
   ]
  },
  {
   "cell_type": "code",
   "execution_count": 75,
   "metadata": {},
   "outputs": [
    {
     "output_type": "stream",
     "name": "stdout",
     "text": [
      "{'timeframe': 15, 'horizon': 300, 'hist_row': 2, 'target_col': 'tgt_diff'}\n"
     ]
    }
   ],
   "source": [
    "HYPERPARAMETER_JSON_PATH = \"../../../../../opt/ml/input/config/hyperparameters.json\"\n",
    "HYPERPARAMETER_JSON_PATH = \"opt/ml/input/config/hyperparameters.json\"\n",
    "\n",
    "import json\n",
    "### ハイパーパラメータ設定（ローカルファイルから読み込み）\n",
    "with open(HYPERPARAMETER_JSON_PATH, \"r\") as f:\n",
    "    hyperparameters = json.load(f)\n",
    "\n",
    "print(hyperparameters)"
   ]
  },
  {
   "cell_type": "code",
   "execution_count": 76,
   "metadata": {},
   "outputs": [],
   "source": [
    "role = 'arn:aws:iam::805433377179:role/sagemaker-sdk-for-local'\n",
    "#role = 'arn:aws:iam::805433377179:role/service-role/AmazonSageMaker-ExecutionRole-20191212T111531'\n",
    "\n",
    "account = sess.boto_session.client('sts').get_caller_identity()['Account']\n",
    "region = sess.boto_session.region_name\n",
    "image = '{}.dkr.ecr.{}.amazonaws.com/test-rd:latest'.format(account, region)\n",
    "\n",
    "lgbm = sage.estimator.Estimator(image_uri=image,\n",
    "                                #entasdfdfry_point1='run.sh',\n",
    "                                #source_sddddddddddir='src',\n",
    "                                role=role, \n",
    "                                instance_count=1,\n",
    "                                #instance_type='local',\n",
    "                                instance_type='ml.c4.2xlarge',\n",
    "                                #output_path=\"s3://{}/output\".format(sess.default_bucket()),\n",
    "                                output_path='s3://work-aws-virginia/test-rd/output/',\n",
    "                                #sagemaker_session=sess # ノートブックインスタンスで実行する場合にIAMを渡す\n",
    "                                hyperparameters=hyperparameters,\n",
    "                                )"
   ]
  },
  {
   "cell_type": "code",
   "execution_count": 77,
   "metadata": {},
   "outputs": [],
   "source": [
    "lgbm.fit({'train':'s3://work-aws-virginia/test-rd/train/',\n",
    "          'valid':'s3://work-aws-virginia/test-rd/valid/',\n",
    "          'test' :'s3://work-aws-virginia/test-rd/test/',\n",
    "          #'backtest':'s3://work-aws-virginia/test-rd/test/',\n",
    "          'src':'s3://work-aws-virginia/test-rd/src/'},\n",
    "          wait=False\n",
    ")"
   ]
  },
  {
   "source": [
    "\n",
    "\n",
    "https://sagemaker.readthedocs.io/en/stable/api/training/estimators.html#sagemaker.estimator.EstimatorBase.fit\n",
    "\n",
    "・並行してジョブ発行する場合は、wait=Falseを使う"
   ],
   "cell_type": "markdown",
   "metadata": {}
  },
  {
   "source": [
    "## 並列実行"
   ],
   "cell_type": "markdown",
   "metadata": {}
  },
  {
   "cell_type": "code",
   "execution_count": 4,
   "metadata": {},
   "outputs": [],
   "source": [
    "import sagemaker as sage\n",
    "sess = sage.Session()\n",
    "\n",
    "prefix = 'test-rd/src'\n",
    "### ソースコードをアップロード\n",
    "src_location = sess.upload_data('opt/ml/input/data/src', bucket='work-aws-virginia', key_prefix=prefix)"
   ]
  },
  {
   "cell_type": "code",
   "execution_count": 5,
   "metadata": {},
   "outputs": [],
   "source": [
    "hyperparam_list = [\n",
    "    'opt/ml/input/config/hyperparameters_10_180_2_diff.json',\n",
    "    'opt/ml/input/config/hyperparameters_10_300_2_diff.json',\n",
    "    'opt/ml/input/config/hyperparameters_15_180_2_diff.json',\n",
    "    'opt/ml/input/config/hyperparameters_15_300_2_diff.json',\n",
    "    ]"
   ]
  },
  {
   "cell_type": "code",
   "execution_count": 6,
   "metadata": {},
   "outputs": [
    {
     "output_type": "stream",
     "name": "stdout",
     "text": [
      "opt/ml/input/config/hyperparameters_10_180_2_diff.json\n",
      "{'timeframe': 10, 'horizon': 180, 'hist_row': 2, 'target_col': 'tgt_diff'}\n",
      "opt/ml/input/config/hyperparameters_10_300_2_diff.json\n",
      "{'timeframe': 10, 'horizon': 300, 'hist_row': 2, 'target_col': 'tgt_diff'}\n",
      "opt/ml/input/config/hyperparameters_15_180_2_diff.json\n",
      "{'timeframe': 15, 'horizon': 180, 'hist_row': 2, 'target_col': 'tgt_diff'}\n",
      "opt/ml/input/config/hyperparameters_15_300_2_diff.json\n",
      "{'timeframe': 15, 'horizon': 300, 'hist_row': 2, 'target_col': 'tgt_diff'}\n"
     ]
    }
   ],
   "source": [
    "role = 'arn:aws:iam::805433377179:role/sagemaker-sdk-for-local'\n",
    "account = sess.boto_session.client('sts').get_caller_identity()['Account']\n",
    "region = sess.boto_session.region_name\n",
    "image = '{}.dkr.ecr.{}.amazonaws.com/test-rd:latest'.format(account, region)\n",
    "\n",
    "import json\n",
    "for hp_path in hyperparam_list:\n",
    "    print(hp_path)\n",
    "\n",
    "    ### ハイパーパラメータ設定（ローカルファイルから読み込み）\n",
    "    with open(hp_path, \"r\") as f:\n",
    "        hyperparameters = json.load(f)\n",
    "\n",
    "    print(hyperparameters)\n",
    "\n",
    "    lgbm = sage.estimator.Estimator(image_uri=image,\n",
    "                                role=role, \n",
    "                                instance_count=1,\n",
    "                                instance_type='ml.c4.2xlarge',\n",
    "                                output_path='s3://work-aws-virginia/test-rd/output/',\n",
    "                                hyperparameters=hyperparameters,\n",
    "                                )\n",
    "    lgbm.fit({'train':'s3://work-aws-virginia/test-rd/train/',\n",
    "          'valid':'s3://work-aws-virginia/test-rd/valid/',\n",
    "          'test' :'s3://work-aws-virginia/test-rd/test/',\n",
    "          'src':'s3://work-aws-virginia/test-rd/src/'},\n",
    "          wait=False\n",
    "          )"
   ]
  },
  {
   "cell_type": "code",
   "execution_count": null,
   "metadata": {},
   "outputs": [],
   "source": []
  },
  {
   "cell_type": "code",
   "execution_count": null,
   "metadata": {},
   "outputs": [],
   "source": []
  },
  {
   "cell_type": "code",
   "execution_count": null,
   "metadata": {},
   "outputs": [],
   "source": []
  },
  {
   "cell_type": "code",
   "execution_count": null,
   "metadata": {},
   "outputs": [],
   "source": []
  },
  {
   "source": [
    "# 上記のEstimatorを編集していく\n",
    "https://sagemaker.readthedocs.io/en/stable/api/training/estimators.html#\n",
    "\n",
    "classsagemaker.estimator.Estimator(image_uri, role, instance_count=None, instance_type=None, volume_size=30, volume_kms_key=None, max_run=86400, input_mode='File', output_path=None, output_kms_key=None, base_job_name=None, sagemaker_session=None, hyperparameters=None, tags=None, subnets=None, security_group_ids=None, model_uri=None, model_channel_name='model', metric_definitions=None, encrypt_inter_container_traffic=False, use_spot_instances=False, max_wait=None, checkpoint_s3_uri=None, checkpoint_local_path=None, enable_network_isolation=False, rules=None, debugger_hook_config=None, tensorboard_output_config=None, enable_sagemaker_metrics=None, profiler_config=None, disable_profiler=False, environment=None, **kwargs)"
   ],
   "cell_type": "markdown",
   "metadata": {}
  },
  {
   "cell_type": "code",
   "execution_count": null,
   "metadata": {},
   "outputs": [],
   "source": [
    "import sagemaker as sage"
   ]
  },
  {
   "cell_type": "code",
   "execution_count": null,
   "metadata": {},
   "outputs": [],
   "source": [
    "sage.__version__"
   ]
  },
  {
   "cell_type": "code",
   "execution_count": null,
   "metadata": {},
   "outputs": [],
   "source": [
    "!pip install sagemaker==2.33.0"
   ]
  },
  {
   "source": [
    "SageMaker Python SDK version == 2.33.0　でOK\n",
    "\n",
    "\n",
    "\n",
    "SageMaker Python SDKのローカルモードを利用して、ノートブックインスタンス以外の環境で学習ジョブを回してみる\n",
    "https://dev.classmethod.jp/articles/sagemaker-python-sdk-localmode/"
   ],
   "cell_type": "markdown",
   "metadata": {}
  },
  {
   "cell_type": "markdown",
   "metadata": {},
   "source": [
    "# 完了"
   ]
  }
 ],
 "metadata": {
  "kernelspec": {
   "name": "python374jvsc74a57bd0dca0ade3e726a953b501b15e8e990130d2b7799f14cfd9f4271676035ebe5511",
   "display_name": "Python 3.7.4 64-bit ('base': conda)"
  },
  "language_info": {
   "codemirror_mode": {
    "name": "ipython",
    "version": 3
   },
   "file_extension": ".py",
   "mimetype": "text/x-python",
   "name": "python",
   "nbconvert_exporter": "python",
   "pygments_lexer": "ipython3",
   "version": "3.7.4"
  }
 },
 "nbformat": 4,
 "nbformat_minor": 4
}